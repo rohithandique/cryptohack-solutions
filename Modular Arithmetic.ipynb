{
 "cells": [
  {
   "cell_type": "markdown",
   "metadata": {},
   "source": [
    "### Modular Arithmetic"
   ]
  },
  {
   "cell_type": "code",
   "execution_count": 15,
   "metadata": {},
   "outputs": [
    {
     "name": "stdout",
     "output_type": "stream",
     "text": [
      "1512\n"
     ]
    }
   ],
   "source": [
    "#1\n",
    "#Greatest Common Divisor\n",
    "a = 66528\n",
    "b = 52920\n",
    "r = a%b\n",
    "while(r>0):\n",
    "    a = b\n",
    "    b = r\n",
    "    r = a % b\n",
    "flag_1 = b\n",
    "print(flag_1)"
   ]
  },
  {
   "cell_type": "code",
   "execution_count": 20,
   "metadata": {},
   "outputs": [
    {
     "data": {
      "text/plain": [
       "-8404"
      ]
     },
     "execution_count": 20,
     "metadata": {},
     "output_type": "execute_result"
    }
   ],
   "source": [
    "#2\n",
    "#Extended GCD\n",
    "def gcdExtended(p, q): \n",
    "  \n",
    "    # Base Case \n",
    "    if p == 0 :  \n",
    "        return 0, 1\n",
    "             \n",
    "    x1, y1 = gcdExtended(q%p, p) \n",
    "    x = y1 - (q//p) * x1 \n",
    "    y = x1 \n",
    "     \n",
    "    return x, y\n",
    "p, q = 26513, 32321\n",
    "x, y = gcdExtended(p, q) \n",
    "flag_2 = min(x, y)\n",
    "flag_2"
   ]
  },
  {
   "cell_type": "code",
   "execution_count": 21,
   "metadata": {},
   "outputs": [
    {
     "data": {
      "text/plain": [
       "4"
      ]
     },
     "execution_count": 21,
     "metadata": {},
     "output_type": "execute_result"
    }
   ],
   "source": [
    "#3\n",
    "#Modular Arithmetic 1\n",
    "8146798528947%17"
   ]
  }
 ],
 "metadata": {
  "kernelspec": {
   "display_name": "Python 3",
   "language": "python",
   "name": "python3"
  },
  "language_info": {
   "codemirror_mode": {
    "name": "ipython",
    "version": 3
   },
   "file_extension": ".py",
   "mimetype": "text/x-python",
   "name": "python",
   "nbconvert_exporter": "python",
   "pygments_lexer": "ipython3",
   "version": "3.8.5"
  }
 },
 "nbformat": 4,
 "nbformat_minor": 4
}
