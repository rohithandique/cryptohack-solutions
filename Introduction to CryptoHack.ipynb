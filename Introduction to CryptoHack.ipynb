{
 "cells": [
  {
   "cell_type": "markdown",
   "metadata": {},
   "source": [
    "### Introduction to CryptoHack"
   ]
  },
  {
   "cell_type": "code",
   "execution_count": 99,
   "metadata": {},
   "outputs": [
    {
     "data": {
      "text/plain": [
       "'crypto{ASCII_pr1nt4bl3}'"
      ]
     },
     "execution_count": 99,
     "metadata": {},
     "output_type": "execute_result"
    }
   ],
   "source": [
    "#3\n",
    "#ASCII\n",
    "arr = [99, 114, 121, 112, 116, 111, 123, 65, 83, 67, 73, 73, 95, 112, 114, 49, 110, 116, 52, 98, 108, 51, 125]\n",
    "flag_3 = \"\"\n",
    "for val in arr:\n",
    "    flag_3 += chr(val)\n",
    "flag_3"
   ]
  },
  {
   "cell_type": "code",
   "execution_count": 100,
   "metadata": {},
   "outputs": [
    {
     "data": {
      "text/plain": [
       "b'crypto{You_will_be_working_with_hex_strings_a_lot}'"
      ]
     },
     "execution_count": 100,
     "metadata": {},
     "output_type": "execute_result"
    }
   ],
   "source": [
    "#4\n",
    "#Hex\n",
    "flag_4 = bytes.fromhex(\"63727970746f7b596f755f77696c6c5f62655f776f726b696e675f776974685f6865785f737472696e67735f615f6c6f747d\")\n",
    "flag_4"
   ]
  },
  {
   "cell_type": "code",
   "execution_count": 101,
   "metadata": {},
   "outputs": [
    {
     "data": {
      "text/plain": [
       "b'crypto/Base+64+Encoding+is+Web+Safe/'"
      ]
     },
     "execution_count": 101,
     "metadata": {},
     "output_type": "execute_result"
    }
   ],
   "source": [
    "#5\n",
    "#Base64\n",
    "import base64\n",
    "flag_5 = base64.b64encode(bytes.fromhex(\"72bca9b68fc16ac7beeb8f849dca1d8a783e8acf9679bf9269f7bf\"))\n",
    "flag_5"
   ]
  },
  {
   "cell_type": "code",
   "execution_count": 102,
   "metadata": {},
   "outputs": [
    {
     "data": {
      "text/plain": [
       "b'crypto{3nc0d1n6_4ll_7h3_w4y_d0wn}'"
      ]
     },
     "execution_count": 102,
     "metadata": {},
     "output_type": "execute_result"
    }
   ],
   "source": [
    "#6\n",
    "#pip install pycryptodome\n",
    "#Bytes and Big Integers\n",
    "from Crypto.Util.number import long_to_bytes\n",
    "flag_6 = long_to_bytes(11515195063862318899931685488813747395775516287289682636499965282714637259206269)\n",
    "flag_6"
   ]
  },
  {
   "cell_type": "code",
   "execution_count": 103,
   "metadata": {},
   "outputs": [
    {
     "data": {
      "text/plain": [
       "'aloha'"
      ]
     },
     "execution_count": 103,
     "metadata": {},
     "output_type": "execute_result"
    }
   ],
   "source": [
    "#7\n",
    "#XOR Starter\n",
    "string = \"label\"\n",
    "str_array = []\n",
    "for s in string:\n",
    "    xor = ord(s)^13\n",
    "    str_array.append(xor)\n",
    "flag_7 = \"\"\n",
    "for val in str_array:\n",
    "    flag_7 += chr(val)\n",
    "flag_7"
   ]
  },
  {
   "cell_type": "code",
   "execution_count": 105,
   "metadata": {},
   "outputs": [
    {
     "data": {
      "text/plain": [
       "b'crypto{x0r_i5_ass0c1at1v3}'"
      ]
     },
     "execution_count": 105,
     "metadata": {},
     "output_type": "execute_result"
    }
   ],
   "source": [
    "#8\n",
    "#XOR Properties\n",
    "#KEY1 = a6c8b6733c9b22de7bc0253266a3867df55acde8635e19c73313\n",
    "#KEY2 ^ KEY1 = 37dcb292030faa90d07eec17e3b1c6d8daf94c35d4c9191a5e1e\n",
    "#KEY2 ^ KEY3 = c1545756687e7573db23aa1c3452a098b71a7fbf0fddddde5fc1\n",
    "#FLAG ^ KEY1 ^ KEY3 ^ KEY2 = 04ee9855208a2cd59091d04767ae47963170d1660df7f56f5faf\n",
    "from Crypto.Util.number import bytes_to_long, long_to_bytes\n",
    "key1_bytes = bytes_to_long(bytes.fromhex(\"a6c8b6733c9b22de7bc0253266a3867df55acde8635e19c73313\"))\n",
    "key2_bytes = bytes_to_long(bytes.fromhex(\"37dcb292030faa90d07eec17e3b1c6d8daf94c35d4c9191a5e1e\"))^key1_bytes\n",
    "key3_bytes = bytes_to_long(bytes.fromhex(\"c1545756687e7573db23aa1c3452a098b71a7fbf0fddddde5fc1\"))^key2_bytes\n",
    "flag_long = bytes_to_long(bytes.fromhex(\"04ee9855208a2cd59091d04767ae47963170d1660df7f56f5faf\"))^key1_bytes^key2_bytes^key3_bytes\n",
    "flag_8 = long_to_bytes(flag_long)\n",
    "flag_8"
   ]
  },
  {
   "cell_type": "code",
   "execution_count": 106,
   "metadata": {},
   "outputs": [
    {
     "name": "stdout",
     "output_type": "stream",
     "text": [
      "crypto{0x10_15_my_f4v0ur173_by7e}\n"
     ]
    }
   ],
   "source": [
    "#9\n",
    "#Favourite Bytes\n",
    "decoded = bytes.fromhex(\"73626960647f6b206821204f21254f7d694f7624662065622127234f726927756d\")\n",
    "for i in range(256):\n",
    "    flag_9 = b''\n",
    "    for b in decoded:\n",
    "        flag_9 += bytes([b ^ i])\n",
    "    if b'crypto' in flag_9:\n",
    "        print(flag_9.decode())\n",
    "        break"
   ]
  },
  {
   "cell_type": "code",
   "execution_count": 107,
   "metadata": {},
   "outputs": [
    {
     "name": "stdout",
     "output_type": "stream",
     "text": [
      "crypto{1f_y0u_Kn0w_En0uGH_y0u_Kn0w_1t_4ll}\n"
     ]
    }
   ],
   "source": [
    "#10\n",
    "#You either know, XOR you don't\n",
    "decoded = bytes.fromhex(\"0e0b213f26041e480b26217f27342e175d0e070a3c5b103e2526217f27342e175d0e077e263451150104\")\n",
    "output = b''\n",
    "for b1, b2 in zip(decoded[:7], \"crypto{\".encode()):\n",
    "    output += bytes([b1 ^ b2])\n",
    "key = (output.decode(\"utf-8\")+\"y\").encode()\n",
    "key += key * int((len(decoded) - len(key))/len(key))\n",
    "key += key[:((len(decoded) - len(key))%len(key))]\n",
    "flag_10 = b\"\"\n",
    "for b1, b2 in zip(decoded, key):\n",
    "    flag_10 += bytes([b1 ^ b2])\n",
    "print(flag_10.decode())"
   ]
  },
  {
   "cell_type": "code",
   "execution_count": null,
   "metadata": {},
   "outputs": [],
   "source": []
  }
 ],
 "metadata": {
  "kernelspec": {
   "display_name": "Python 3",
   "language": "python",
   "name": "python3"
  },
  "language_info": {
   "codemirror_mode": {
    "name": "ipython",
    "version": 3
   },
   "file_extension": ".py",
   "mimetype": "text/x-python",
   "name": "python",
   "nbconvert_exporter": "python",
   "pygments_lexer": "ipython3",
   "version": "3.8.5"
  }
 },
 "nbformat": 4,
 "nbformat_minor": 4
}
